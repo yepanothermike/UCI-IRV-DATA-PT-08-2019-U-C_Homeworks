{
 "cells": [
  {
   "cell_type": "markdown",
   "metadata": {},
   "source": [
    "## Dependencies and starter code"
   ]
  },
  {
   "cell_type": "code",
   "execution_count": 22,
   "metadata": {},
   "outputs": [],
   "source": [
    "%matplotlib notebook\n",
    "\n",
    "# Dependencies and Setup\n",
    "import matplotlib.pyplot as plt\n",
    "import pandas as pd\n",
    "import scipy.stats as st\n",
    "import numpy as np\n",
    "from scipy.stats import sem\n",
    "\n",
    "# Study data files\n",
    "mouse_metadata = \"data/Mouse_metadata.csv\"\n",
    "study_results = \"data/Study_results.csv\"\n",
    "\n",
    "# Read the mouse data and the study results\n",
    "mouse_metadata = pd.read_csv(mouse_metadata)\n",
    "study_results = pd.read_csv(study_results)\n",
    "\n",
    "# Combine the data into a single dataset\n",
    "mouse_study_data = pd.merge(mouse_metadata, study_results, on=\"Mouse ID\")"
   ]
  },
  {
   "cell_type": "markdown",
   "metadata": {},
   "source": [
    "## Summary statistics"
   ]
  },
  {
   "cell_type": "code",
   "execution_count": 21,
   "metadata": {},
   "outputs": [
    {
     "data": {
      "text/html": [
       "<div>\n",
       "<style scoped>\n",
       "    .dataframe tbody tr th:only-of-type {\n",
       "        vertical-align: middle;\n",
       "    }\n",
       "\n",
       "    .dataframe tbody tr th {\n",
       "        vertical-align: top;\n",
       "    }\n",
       "\n",
       "    .dataframe thead th {\n",
       "        text-align: right;\n",
       "    }\n",
       "</style>\n",
       "<table border=\"1\" class=\"dataframe\">\n",
       "  <thead>\n",
       "    <tr style=\"text-align: right;\">\n",
       "      <th></th>\n",
       "      <th>drug regimes</th>\n",
       "      <th>mean</th>\n",
       "      <th>meadian</th>\n",
       "      <th>variance</th>\n",
       "      <th>stddev</th>\n",
       "      <th>SEM</th>\n",
       "    </tr>\n",
       "  </thead>\n",
       "  <tbody>\n",
       "    <tr>\n",
       "      <td>0</td>\n",
       "      <td>Ramicane</td>\n",
       "      <td>40.216745</td>\n",
       "      <td>40.673236</td>\n",
       "      <td>23.383692</td>\n",
       "      <td>4.835669</td>\n",
       "      <td>0.320955</td>\n",
       "    </tr>\n",
       "    <tr>\n",
       "      <td>1</td>\n",
       "      <td>Capomulin</td>\n",
       "      <td>40.675741</td>\n",
       "      <td>41.557809</td>\n",
       "      <td>24.839296</td>\n",
       "      <td>4.983904</td>\n",
       "      <td>0.329346</td>\n",
       "    </tr>\n",
       "    <tr>\n",
       "      <td>2</td>\n",
       "      <td>Infubinol</td>\n",
       "      <td>52.884795</td>\n",
       "      <td>51.820584</td>\n",
       "      <td>42.886388</td>\n",
       "      <td>6.548770</td>\n",
       "      <td>0.492236</td>\n",
       "    </tr>\n",
       "    <tr>\n",
       "      <td>3</td>\n",
       "      <td>Placebo</td>\n",
       "      <td>54.033581</td>\n",
       "      <td>52.288934</td>\n",
       "      <td>60.830138</td>\n",
       "      <td>7.799368</td>\n",
       "      <td>0.581331</td>\n",
       "    </tr>\n",
       "    <tr>\n",
       "      <td>4</td>\n",
       "      <td>Ceftamin</td>\n",
       "      <td>52.591172</td>\n",
       "      <td>51.776157</td>\n",
       "      <td>39.069446</td>\n",
       "      <td>6.250556</td>\n",
       "      <td>0.469821</td>\n",
       "    </tr>\n",
       "  </tbody>\n",
       "</table>\n",
       "</div>"
      ],
      "text/plain": [
       "  drug regimes       mean    meadian   variance    stddev       SEM\n",
       "0     Ramicane  40.216745  40.673236  23.383692  4.835669  0.320955\n",
       "1    Capomulin  40.675741  41.557809  24.839296  4.983904  0.329346\n",
       "2    Infubinol  52.884795  51.820584  42.886388  6.548770  0.492236\n",
       "3      Placebo  54.033581  52.288934  60.830138  7.799368  0.581331\n",
       "4     Ceftamin  52.591172  51.776157  39.069446  6.250556  0.469821"
      ]
     },
     "execution_count": 21,
     "metadata": {},
     "output_type": "execute_result"
    }
   ],
   "source": [
    "# Generate a summary statistics table of mean, median, variance, standard deviation, and SEM of the tumor volume for each regimen\n",
    "\n",
    "# Initialize data vars\n",
    "mean      = []\n",
    "median    = []\n",
    "variance  = []\n",
    "stddev    = []\n",
    "pym_sem   = []\n",
    "\n",
    "# Get a list of unique drugs\n",
    "drug_regimes = mouse_study_data['Drug Regimen'].unique()\n",
    "\n",
    "# loop through drugs and for each one grab their data and calc stats\n",
    "i = 0\n",
    "for drug in drug_regimes:\n",
    "    # get drug data\n",
    "    drug_data_dfi = mouse_study_data.loc[mouse_study_data[\"Drug Regimen\"] == drug]\n",
    "    \n",
    "    # calc and store stats\n",
    "    mean.append(drug_data_dfi[\"Tumor Volume (mm3)\"].mean())\n",
    "    median.append(drug_data_dfi[\"Tumor Volume (mm3)\"].median())\n",
    "    variance.append(np.var(drug_data_dfi[\"Tumor Volume (mm3)\"]))\n",
    "    stddev.append(np.std(drug_data_dfi[\"Tumor Volume (mm3)\"]))\n",
    "    pym_sem.append(sem(drug_data_dfi[\"Tumor Volume (mm3)\"]))\n",
    "     \n",
    "    # increment index\n",
    "    i = i+1\n",
    "    \n",
    "# make table\n",
    "data = {\n",
    "    \"drug regimes\": drug_regimes,\n",
    "    \"mean\": mean,\n",
    "    \"meadian\": median,\n",
    "    \"variance\": variance,\n",
    "    \"stddev\": stddev,\n",
    "    \"SEM\": pym_sem\n",
    "}\n",
    "\n",
    "summary_stats = pd.DataFrame(data=data)\n",
    "summary_stats.head()"
   ]
  },
  {
   "cell_type": "code",
   "execution_count": 8,
   "metadata": {},
   "outputs": [
    {
     "data": {
      "text/plain": [
       "array([ 0,  5, 10, 15, 20, 25, 30, 35, 40, 45])"
      ]
     },
     "execution_count": 8,
     "metadata": {},
     "output_type": "execute_result"
    }
   ],
   "source": [
    "unique_time = mouse_study_data['Timepoint'].unique()\n",
    "unique_time"
   ]
  },
  {
   "cell_type": "code",
   "execution_count": null,
   "metadata": {},
   "outputs": [],
   "source": [
    "binned"
   ]
  },
  {
   "cell_type": "code",
   "execution_count": null,
   "metadata": {},
   "outputs": [],
   "source": []
  }
 ],
 "metadata": {
  "kernelspec": {
   "display_name": "Python 3",
   "language": "python",
   "name": "python3"
  },
  "language_info": {
   "codemirror_mode": {
    "name": "ipython",
    "version": 3
   },
   "file_extension": ".py",
   "mimetype": "text/x-python",
   "name": "python",
   "nbconvert_exporter": "python",
   "pygments_lexer": "ipython3",
   "version": "3.6.9"
  }
 },
 "nbformat": 4,
 "nbformat_minor": 2
}
