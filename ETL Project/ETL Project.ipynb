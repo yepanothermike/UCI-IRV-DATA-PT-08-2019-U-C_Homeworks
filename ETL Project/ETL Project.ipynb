{
 "cells": [
  {
   "cell_type": "code",
   "execution_count": 124,
   "metadata": {},
   "outputs": [],
   "source": [
    "import pandas as pd\n",
    "import pymongo\n",
    "import json"
   ]
  },
  {
   "cell_type": "markdown",
   "metadata": {},
   "source": [
    "# Extract"
   ]
  },
  {
   "cell_type": "code",
   "execution_count": 148,
   "metadata": {},
   "outputs": [],
   "source": [
    "# get the 2018 data occupation and demographics data\n",
    "url = 'https://www.bls.gov/cps/cpsaat11.htm'\n",
    "labor_force_stats = pd.read_html(url)\n",
    "labor_force_stats = labor_force_stats[0]\n",
    "\n",
    "# get the 2028 projected demographics data\n",
    "url = 'https://www.bls.gov/emp/tables/civilian-labor-force-summary.htm'\n",
    "demographics_2028 = pd.read_html(url)\n",
    "demographics_2028 = demographics_2028[0]\n",
    "\n",
    "# get the 2028 projected occupation data\n",
    "url = 'https://www.bls.gov/emp/tables/occupational-projections-and-characteristics.htm'\n",
    "occupations_2028 = pd.read_html(url)\n",
    "occupations_2028 = occupations_2028[0]"
   ]
  },
  {
   "cell_type": "markdown",
   "metadata": {},
   "source": [
    "# Transform"
   ]
  },
  {
   "cell_type": "code",
   "execution_count": 149,
   "metadata": {},
   "outputs": [
    {
     "data": {
      "text/html": [
       "<div>\n",
       "<style scoped>\n",
       "    .dataframe tbody tr th:only-of-type {\n",
       "        vertical-align: middle;\n",
       "    }\n",
       "\n",
       "    .dataframe tbody tr th {\n",
       "        vertical-align: top;\n",
       "    }\n",
       "\n",
       "    .dataframe thead th {\n",
       "        text-align: right;\n",
       "    }\n",
       "</style>\n",
       "<table border=\"1\" class=\"dataframe\">\n",
       "  <thead>\n",
       "    <tr style=\"text-align: right;\">\n",
       "      <th></th>\n",
       "      <th>Occupation</th>\n",
       "      <th>Total Employed</th>\n",
       "      <th>Women</th>\n",
       "      <th>White</th>\n",
       "      <th>Black or African American</th>\n",
       "      <th>Asian</th>\n",
       "      <th>Hispanic or Latino</th>\n",
       "    </tr>\n",
       "  </thead>\n",
       "  <tbody>\n",
       "    <tr>\n",
       "      <td>0</td>\n",
       "      <td>Total, 16 years and over</td>\n",
       "      <td>155761</td>\n",
       "      <td>46.9</td>\n",
       "      <td>78.0</td>\n",
       "      <td>12.3</td>\n",
       "      <td>6.3</td>\n",
       "      <td>17.3</td>\n",
       "    </tr>\n",
       "    <tr>\n",
       "      <td>2</td>\n",
       "      <td>Management, professional, and related occupations</td>\n",
       "      <td>62436</td>\n",
       "      <td>51.5</td>\n",
       "      <td>79.4</td>\n",
       "      <td>9.6</td>\n",
       "      <td>8.5</td>\n",
       "      <td>9.7</td>\n",
       "    </tr>\n",
       "    <tr>\n",
       "      <td>3</td>\n",
       "      <td>Management, business, and financial operations...</td>\n",
       "      <td>25850</td>\n",
       "      <td>44.0</td>\n",
       "      <td>82.4</td>\n",
       "      <td>8.2</td>\n",
       "      <td>6.8</td>\n",
       "      <td>9.8</td>\n",
       "    </tr>\n",
       "    <tr>\n",
       "      <td>4</td>\n",
       "      <td>Management occupations</td>\n",
       "      <td>18263</td>\n",
       "      <td>40.0</td>\n",
       "      <td>83.9</td>\n",
       "      <td>7.6</td>\n",
       "      <td>5.9</td>\n",
       "      <td>10.3</td>\n",
       "    </tr>\n",
       "    <tr>\n",
       "      <td>5</td>\n",
       "      <td>Chief executives</td>\n",
       "      <td>1573</td>\n",
       "      <td>26.9</td>\n",
       "      <td>89.5</td>\n",
       "      <td>3.5</td>\n",
       "      <td>5.9</td>\n",
       "      <td>6.1</td>\n",
       "    </tr>\n",
       "  </tbody>\n",
       "</table>\n",
       "</div>"
      ],
      "text/plain": [
       "                                          Occupation Total Employed Women  \\\n",
       "0                           Total, 16 years and over         155761  46.9   \n",
       "2  Management, professional, and related occupations          62436  51.5   \n",
       "3  Management, business, and financial operations...          25850  44.0   \n",
       "4                             Management occupations          18263  40.0   \n",
       "5                                   Chief executives           1573  26.9   \n",
       "\n",
       "  White Black or African American Asian Hispanic or Latino  \n",
       "0  78.0                      12.3   6.3               17.3  \n",
       "2  79.4                       9.6   8.5                9.7  \n",
       "3  82.4                       8.2   6.8                9.8  \n",
       "4  83.9                       7.6   5.9               10.3  \n",
       "5  89.5                       3.5   5.9                6.1  "
      ]
     },
     "execution_count": 149,
     "metadata": {},
     "output_type": "execute_result"
    }
   ],
   "source": [
    "# clean up columns\n",
    "labor_force_stats.columns = ['Occupation', 'Total Employed', 'Women', 'White',\n",
    "                            'Black or African American', 'Asian', 'Hispanic or Latino']\n",
    "\n",
    "# drop NAN's\n",
    "labor_force_stats = labor_force_stats.dropna()\n",
    "\n",
    "# delete the last row\n",
    "labor_force_stats.drop(labor_force_stats.tail(1).index, inplace=True)\n",
    "labor_force_stats.head()"
   ]
  },
  {
   "cell_type": "code",
   "execution_count": 150,
   "metadata": {},
   "outputs": [
    {
     "data": {
      "text/html": [
       "<div>\n",
       "<style scoped>\n",
       "    .dataframe tbody tr th:only-of-type {\n",
       "        vertical-align: middle;\n",
       "    }\n",
       "\n",
       "    .dataframe tbody tr th {\n",
       "        vertical-align: top;\n",
       "    }\n",
       "\n",
       "    .dataframe thead th {\n",
       "        text-align: right;\n",
       "    }\n",
       "</style>\n",
       "<table border=\"1\" class=\"dataframe\">\n",
       "  <thead>\n",
       "    <tr style=\"text-align: right;\">\n",
       "      <th></th>\n",
       "      <th>Ocupation</th>\n",
       "      <th>Total Employed</th>\n",
       "      <th>Women</th>\n",
       "      <th>White</th>\n",
       "      <th>Black or African American</th>\n",
       "      <th>Asian</th>\n",
       "      <th>Hispanic or Latino</th>\n",
       "    </tr>\n",
       "  </thead>\n",
       "  <tbody>\n",
       "    <tr>\n",
       "      <td>2</td>\n",
       "      <td>Total, 16 years and over</td>\n",
       "      <td>100.0</td>\n",
       "      <td>47.6</td>\n",
       "      <td>75.4</td>\n",
       "      <td>13.0</td>\n",
       "      <td>7.3</td>\n",
       "      <td>20.9</td>\n",
       "    </tr>\n",
       "  </tbody>\n",
       "</table>\n",
       "</div>"
      ],
      "text/plain": [
       "                  Ocupation Total Employed Women White  \\\n",
       "2  Total, 16 years and over          100.0  47.6  75.4   \n",
       "\n",
       "  Black or African American Asian Hispanic or Latino  \n",
       "2                      13.0   7.3               20.9  "
      ]
     },
     "execution_count": 150,
     "metadata": {},
     "output_type": "execute_result"
    }
   ],
   "source": [
    "# clean up the 2028 projected demographics data\n",
    "# ----------------------\n",
    "# drop NAN's\n",
    "demographics_2028 = demographics_2028.dropna()\n",
    "\n",
    "# drop last row\n",
    "demographics_2028.drop(demographics_2028.tail(1).index, inplace=False)\n",
    "\n",
    "# get only the data we care about and rename columns\n",
    "demographics_2028 = demographics_2028.iloc[[0,24,36,39,42,48],[0,4,14]]\n",
    "demographics_2028.columns = ['Occupation', 'Total Employed', 'Total, 16 years and over']\n",
    "\n",
    "# transpose to align with labor_force_stats dataframe\n",
    "projections_2028 = demographics_2028.T\n",
    "\n",
    "# clean up the table\n",
    "projections_2028.reset_index(drop=False, inplace=True)\n",
    "projections_2028.columns = ['Ocupation', 'Total Employed', 'Women', 'White', 'Black or African American', 'Asian', 'Hispanic or Latino']\n",
    "\n",
    "projections_2028.iloc[1,1] = projections_2028.iloc[0,1]\n",
    "projections_2028.drop(projections_2028.head(1).index, inplace=True)\n",
    "projections_2028.drop(projections_2028.head(1).index, inplace=True)\n",
    "projections_2028"
   ]
  },
  {
   "cell_type": "code",
   "execution_count": 151,
   "metadata": {},
   "outputs": [
    {
     "data": {
      "text/html": [
       "<div>\n",
       "<style scoped>\n",
       "    .dataframe tbody tr th:only-of-type {\n",
       "        vertical-align: middle;\n",
       "    }\n",
       "\n",
       "    .dataframe tbody tr th {\n",
       "        vertical-align: top;\n",
       "    }\n",
       "\n",
       "    .dataframe thead th {\n",
       "        text-align: right;\n",
       "    }\n",
       "</style>\n",
       "<table border=\"1\" class=\"dataframe\">\n",
       "  <thead>\n",
       "    <tr style=\"text-align: right;\">\n",
       "      <th></th>\n",
       "      <th>Occupations</th>\n",
       "      <th>Total Employed</th>\n",
       "    </tr>\n",
       "  </thead>\n",
       "  <tbody>\n",
       "    <tr>\n",
       "      <td>0</td>\n",
       "      <td>Total, all occupations</td>\n",
       "      <td>169435.9</td>\n",
       "    </tr>\n",
       "    <tr>\n",
       "      <td>1</td>\n",
       "      <td>Management occupations</td>\n",
       "      <td>10900.2</td>\n",
       "    </tr>\n",
       "    <tr>\n",
       "      <td>2</td>\n",
       "      <td>Top executives</td>\n",
       "      <td>2844.8</td>\n",
       "    </tr>\n",
       "    <tr>\n",
       "      <td>3</td>\n",
       "      <td>Chief executives</td>\n",
       "      <td>248.8</td>\n",
       "    </tr>\n",
       "    <tr>\n",
       "      <td>4</td>\n",
       "      <td>General and operations managers</td>\n",
       "      <td>2541.4</td>\n",
       "    </tr>\n",
       "    <tr>\n",
       "      <td>...</td>\n",
       "      <td>...</td>\n",
       "      <td>...</td>\n",
       "    </tr>\n",
       "    <tr>\n",
       "      <td>1071</td>\n",
       "      <td>Wellhead pumpers</td>\n",
       "      <td>14.3</td>\n",
       "    </tr>\n",
       "    <tr>\n",
       "      <td>1072</td>\n",
       "      <td>Refuse and recyclable material collectors</td>\n",
       "      <td>143.9</td>\n",
       "    </tr>\n",
       "    <tr>\n",
       "      <td>1073</td>\n",
       "      <td>Mine shuttle car operators</td>\n",
       "      <td>1.3</td>\n",
       "    </tr>\n",
       "    <tr>\n",
       "      <td>1074</td>\n",
       "      <td>Tank car, truck, and ship loaders</td>\n",
       "      <td>9.2</td>\n",
       "    </tr>\n",
       "    <tr>\n",
       "      <td>1075</td>\n",
       "      <td>Material moving workers, all other</td>\n",
       "      <td>28.9</td>\n",
       "    </tr>\n",
       "  </tbody>\n",
       "</table>\n",
       "<p>1076 rows × 2 columns</p>\n",
       "</div>"
      ],
      "text/plain": [
       "                                    Occupations Total Employed\n",
       "0                        Total, all occupations       169435.9\n",
       "1                        Management occupations        10900.2\n",
       "2                                Top executives         2844.8\n",
       "3                              Chief executives          248.8\n",
       "4               General and operations managers         2541.4\n",
       "...                                         ...            ...\n",
       "1071                           Wellhead pumpers           14.3\n",
       "1072  Refuse and recyclable material collectors          143.9\n",
       "1073                 Mine shuttle car operators            1.3\n",
       "1074          Tank car, truck, and ship loaders            9.2\n",
       "1075         Material moving workers, all other           28.9\n",
       "\n",
       "[1076 rows x 2 columns]"
      ]
     },
     "execution_count": 151,
     "metadata": {},
     "output_type": "execute_result"
    }
   ],
   "source": [
    "# clean up the occupation data\n",
    "# ----------------------\n",
    "# drop NAN's\n",
    "occupations_2028 = occupations_2028.dropna()\n",
    "\n",
    "# drop last row\n",
    "occupations_2028.drop(occupations_2028.tail(1).index, inplace=True)\n",
    "\n",
    "# get columns of interest and rename columns\n",
    "occupations_2028 = occupations_2028.iloc[:,[0,4]]\n",
    "occupations_2028.columns = ['Occupations', 'Total Employed']\n",
    "occupations_2028"
   ]
  },
  {
   "cell_type": "markdown",
   "metadata": {},
   "source": [
    "# Load"
   ]
  },
  {
   "cell_type": "code",
   "execution_count": 156,
   "metadata": {},
   "outputs": [
    {
     "data": {
      "text/plain": [
       "<pymongo.results.InsertManyResult at 0x12578dc48>"
      ]
     },
     "execution_count": 156,
     "metadata": {},
     "output_type": "execute_result"
    }
   ],
   "source": [
    "# connect to the mongo client\n",
    "conn = 'mongodb://localhost:27017'\n",
    "client = pymongo.MongoClient(conn)\n",
    "\n",
    "# create occupations database\n",
    "db = client.occupationsdb\n",
    "\n",
    "# convert to a dictionary to insert into mongo\n",
    "labor_dict_2018 = labor_force_stats.to_dict('record')\n",
    "\n",
    "# insert into mongo database\n",
    "db['2018'].insert_many(labor_dict_2018)"
   ]
  },
  {
   "cell_type": "code",
   "execution_count": 155,
   "metadata": {},
   "outputs": [
    {
     "data": {
      "text/plain": [
       "<pymongo.results.InsertManyResult at 0x12546ee48>"
      ]
     },
     "execution_count": 155,
     "metadata": {},
     "output_type": "execute_result"
    }
   ],
   "source": [
    "# load the 2028 data into mongo\n",
    "# convert to a dictionary to insert into mongo\n",
    "projections_2028_dict = projections_2028.to_dict('record')\n",
    "occupations_2028_dict = occupations_2028.to_dict('record')\n",
    "\n",
    "# insert into mongo database\n",
    "db['2028'].insert_many(projections_2028_dict)\n",
    "db['2028'].insert_many(occupations_2028_dict)"
   ]
  },
  {
   "cell_type": "code",
   "execution_count": 157,
   "metadata": {},
   "outputs": [],
   "source": [
    "data = [{'headline': 'Valles Marineris Hemisphere Enhanced', 'teaser': \"Teams with NASA's Mars 2020 and ESA's ExoMars practiced hunting for fossilized microbial life in the Australian Outback in preparation for their Red Planet missions. \", 'mars_featured_img_url': '/spaceimages/images/mediumsize/PIA18614_ip.jpg', 'mars_weather': 'InSight sol 346 (2019-11-16) low -101.5ºC (-150.8ºF) high -23.5ºC (-10.3ºF)\\nwinds from the SSE at 4.8 m/s (10.8 mph) gusting to 20.0 m/s (44.7 mph)\\npressure at 6.80 hPapic.twitter.com/zAXfs9KpgE', 'mars_facts_html': '<table border=\"1\" class=\"dataframe\">\\n  <thead>\\n    <tr style=\"text-align: right;\">\\n      <th></th>\\n      <th>Fact Name</th>\\n      <th>Fact Value</th>\\n    </tr>\\n  </thead>\\n  <tbody>\\n    <tr>\\n      <th>0</th>\\n      <td>Equatorial Diameter:</td>\\n      <td>6,792 km</td>\\n    </tr>\\n    <tr>\\n      <th>1</th>\\n      <td>Polar Diameter:</td>\\n      <td>6,752 km</td>\\n    </tr>\\n    <tr>\\n      <th>2</th>\\n      <td>Mass:</td>\\n      <td>6.39 × 10^23 kg (0.11 Earths)</td>\\n    </tr>\\n    <tr>\\n      <th>3</th>\\n      <td>Moons:</td>\\n      <td>2 (Phobos &amp; Deimos)</td>\\n    </tr>\\n    <tr>\\n      <th>4</th>\\n      <td>Orbit Distance:</td>\\n      <td>227,943,824 km (1.38 AU)</td>\\n    </tr>\\n    <tr>\\n      <th>5</th>\\n      <td>Orbit Period:</td>\\n      <td>687 days (1.9 years)</td>\\n    </tr>\\n    <tr>\\n      <th>6</th>\\n      <td>Surface Temperature:</td>\\n      <td>-87 to -5 °C</td>\\n    </tr>\\n    <tr>\\n      <th>7</th>\\n      <td>First Record:</td>\\n      <td>2nd millennium BC</td>\\n    </tr>\\n    <tr>\\n      <th>8</th>\\n      <td>Recorded By:</td>\\n      <td>Egyptian astronomers</td>\\n    </tr>\\n  </tbody>\\n</table>', 'hemispheres': [{'img_url': 'http://astropedia.astrogeology.usgs.gov/download/Mars/Viking/cerberus_enhanced.tif', 'title': 'Cerberus Hemisphere Enhanced'}, {'img_url': 'http://astropedia.astrogeology.usgs.gov/download/Mars/Viking/schiaparelli_enhanced.tif', 'title': 'Schiaparelli Hemisphere Enhanced'}, {'img_url': 'http://astropedia.astrogeology.usgs.gov/download/Mars/Viking/syrtis_major_enhanced.tif', 'title': 'Syrtis Major Hemisphere Enhanced'}, {'img_url': 'http://astropedia.astrogeology.usgs.gov/download/Mars/Viking/valles_marineris_enhanced.tif', 'title': 'Valles Marineris Hemisphere Enhanced'}]}]"
   ]
  },
  {
   "cell_type": "code",
   "execution_count": 161,
   "metadata": {},
   "outputs": [
    {
     "data": {
      "text/plain": [
       "'Valles Marineris Hemisphere Enhanced'"
      ]
     },
     "execution_count": 161,
     "metadata": {},
     "output_type": "execute_result"
    }
   ],
   "source": [
    "data[0]['headline']"
   ]
  },
  {
   "cell_type": "code",
   "execution_count": 163,
   "metadata": {},
   "outputs": [],
   "source": [
    "# connect to the mongo client\n",
    "conn = 'mongodb://localhost:27017'\n",
    "client = pymongo.MongoClient(conn)\n",
    "db = client.mars_app"
   ]
  },
  {
   "cell_type": "code",
   "execution_count": 164,
   "metadata": {},
   "outputs": [
    {
     "data": {
      "text/plain": [
       "<pymongo.results.InsertManyResult at 0x1241c0388>"
      ]
     },
     "execution_count": 164,
     "metadata": {},
     "output_type": "execute_result"
    }
   ],
   "source": [
    "db['mars'].insert_many(data)"
   ]
  },
  {
   "cell_type": "code",
   "execution_count": null,
   "metadata": {},
   "outputs": [],
   "source": []
  }
 ],
 "metadata": {
  "kernelspec": {
   "display_name": "Python 3",
   "language": "python",
   "name": "python3"
  },
  "language_info": {
   "codemirror_mode": {
    "name": "ipython",
    "version": 3
   },
   "file_extension": ".py",
   "mimetype": "text/x-python",
   "name": "python",
   "nbconvert_exporter": "python",
   "pygments_lexer": "ipython3",
   "version": "3.6.9"
  }
 },
 "nbformat": 4,
 "nbformat_minor": 2
}
